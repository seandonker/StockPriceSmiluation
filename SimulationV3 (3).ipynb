{
 "cells": [
  {
   "cell_type": "markdown",
   "metadata": {},
   "source": [
    "Stock Price Simulation\n",
    "======================"
   ]
  },
  {
   "cell_type": "code",
   "execution_count": 113,
   "metadata": {},
   "outputs": [],
   "source": [
    "import matplotlib.pyplot as plt\n",
    "import numpy as np\n",
    "#np.random.seed(1)"
   ]
  },
  {
   "cell_type": "markdown",
   "metadata": {},
   "source": [
    "ShareHolder Class\n",
    "-----------------\n",
    "The ShareHolder class was designed to model a single owner of a certain stock that we will call \"Joe\". Joe is given a starting number of shares, cash to poissbly purchase more shares, and a previous purchase price for the owned stock. Joe's tendincies for stock trading are boiled down to four parameters to recreate what he is thinking from the input data Joe has access to. \n",
    "\n",
    "Those are:\n",
    "* buyFreq   : how often Joe wants to buy more stock\n",
    "* sellFreq  : how often Joe wants to sell his stock\n",
    "* buyAgg    : how many shares of his stock Joe wants to buy at once (used as a factor, not number passed)\n",
    "* sellAgg   : how many shares of his stock Joe wants to sell at once (used as a factor, not number passed)\n",
    "\n",
    "Whenever Joe checks the market (update method), he has the possibility to buy if the stock price is lower than his previous purchase price or to sell his stock if his previous purchase price is higher than the current price. The amount he buys or sells depends and his agrresiveness and how different the current and old purchase price is. When he purchases or sells stock, his wealth is adjusted accordingly along with update the previous purchase price and the number of shares. "
   ]
  },
  {
   "cell_type": "code",
   "execution_count": 119,
   "metadata": {},
   "outputs": [],
   "source": [
    "class shareHolder:\n",
    "    def __init__(self, shares=-1, wealth=-1, purchasePrice=-1, buyFreq=0.2, sellFreq=0.2, buyAgg=1 ,sellAgg=1):\n",
    "        if shares == -1  or purchasePrice == -1 or wealth == -1: \n",
    "            print(\"Error\")\n",
    "        self.shares = shares\n",
    "        self.wealth = wealth\n",
    "        self.purchasePrice = purchasePrice\n",
    "        self.sellFreq = sellFreq\n",
    "        self.buyFreq = buyFreq\n",
    "        self.buyAgg = buyAgg\n",
    "        self.sellAgg = sellAgg\n",
    "        \n",
    "    def returnPurchasePrice(self):\n",
    "        return self.purchasePrice\n",
    "    \n",
    "    def returnTotalWealth(self, price):\n",
    "        return self.wealth + (self.shares*price)\n",
    "\n",
    "    def buy(self, price):\n",
    "        wealth = self.wealth\n",
    "        numBuy1 = round( self.buyAgg * (self.purchasePrice - price) )\n",
    "        numBuy2 = self.freeShares\n",
    "        numBuy3 = int(np.floor(self.wealth/price))\n",
    "        numBuy = min(numBuy1, numBuy2, numBuy3)\n",
    "        if numBuy > 0:\n",
    "            self.purchasePrice = price\n",
    "        self.shares = self.shares + numBuy\n",
    "        self.freeShares = self.freeShares - numBuy\n",
    "        self.wealth = self.wealth - (numBuy * price)\n",
    "        self.freeShares = self.freeShares - numBuy\n",
    "        if self.wealth < 0:\n",
    "            print(f\"Shares={self.shares} | WealthBefore={wealth:.2f} | WealthAfter={self.wealth:.2f} | | Price={price:.2f} | bought={numBuy} |\")\n",
    "\n",
    "    def sell(self, price):\n",
    "        numSell1 = round( self.sellAgg * (price - self.purchasePrice) )\n",
    "        numSell2 = self.shares\n",
    "        numSell = min(numSell1, numSell2)\n",
    "        self.shares = self.shares - numSell\n",
    "        self.freeShares = self.freeShares + numSell\n",
    "        self.wealth = self.wealth + (numSell * price)\n",
    "        self.freeShares =  self.freeShares + numSell\n",
    "\n",
    "    def update(self, freeShares, price):\n",
    "        self.freeShares = freeShares\n",
    "        returnedShares = 0\n",
    "        r = np.random.uniform(0,1)\n",
    "        if price > self.purchasePrice and r < self.sellFreq:\n",
    "            self.sell(price)\n",
    "        elif price < self.purchasePrice and r < self.buyFreq and freeShares > 0:\n",
    "            self.buy(price)\n",
    "\n",
    "        return self.freeShares\n",
    "\n",
    "    def __str__(self):\n",
    "        return (f\"Shares={self.shares} | Stock Value={self.wealth:.2f} | Previous purchase price={self.purchasePrice:.2f} | Probability(buy,sell)={self.buyFreq:.3f},{self.sellFreq:.3f}\")\n"
   ]
  },
  {
   "cell_type": "markdown",
   "metadata": {},
   "source": [
    "Stock Class\n",
    "-----------------\n",
    "The stock class was created in order to model a single commodity. This stock is initially given a set number of share holders (or Joes), a starting price, the amount of shares not owned by Joes, and then all of the charachetrsitics for each individual Joe.\n",
    "Finally, the price affect is set which decribes how large of an affect selling and purchasing stock has on the price. \n",
    "\n",
    "The step method is what drives the changing stock price which is the main focus of this model. For each time step, all of the Joes are put in a random order as each Joe's decision affects the stock price so having a consistant order for their decisions would create a less accurate model. Each Joe is then updated and the price is adjusted according to the logic that if shares a purchased, the price will increase as they are more sought after and vice versa for sold shares. "
   ]
  },
  {
   "cell_type": "code",
   "execution_count": 122,
   "metadata": {},
   "outputs": [],
   "source": [
    "class stock:\n",
    "    def __init__(self, numberHolders, price, freeShares, sharesPer, wealth, purchasePrice, buyFreq, sellFreq, buyAgg, sellAgg, priceAffect=0.01):\n",
    "        if isinstance(sharesPer, np.ndarray) and isinstance(purchasePrice, np.ndarray) and isinstance(buyFreq, np.ndarray):\n",
    "            self.holders = []\n",
    "            self.sharesOwned = 0\n",
    "            for i in range(numberHolders):\n",
    "                self.holders.append(shareHolder(sharesPer[i], wealth[i], purchasePrice[i], buyFreq[i], sellFreq[i], buyAgg[i], sellAgg[i]))\n",
    "                self.sharesOwned = self.sharesOwned + sharesPer[i]\n",
    "        else:\n",
    "            print(\"Error\")\n",
    "\n",
    "        self.price = price\n",
    "        self.sharesFree = freeShares\n",
    "        self.totalShares = self.sharesFree + self.sharesOwned\n",
    "        self.priceAffect = priceAffect\n",
    "        \n",
    "    def printHolders(self):\n",
    "        print(f\"Number of share holders={len(self.holders)}\")\n",
    "        print(f\"Stock price={self.price}\")\n",
    "        print(f\"Shares free={self.sharesFree}\")\n",
    "        print(f\"Shares purchased={self.sharesOwned}\")\n",
    "        \n",
    "        for i in range(len(self.holders)):\n",
    "            wealth = self.holders[i].returnTotalWealth(self.price)\n",
    "            print(f\"{i+1}, {self.holders[i]} |Total Wealth = {wealth}\")\n",
    "    \n",
    "    def stockPrice(self):\n",
    "        return self.price\n",
    "    \n",
    "    def freeShares(self):\n",
    "        return self.sharesFree\n",
    "    \n",
    "    def step(self):\n",
    "        indices = list(range(len(self.holders)))\n",
    "        np.random.shuffle(indices)\n",
    "        \n",
    "        for index in indices:\n",
    "            freeBefore = self.sharesFree\n",
    "            self.sharesFree = self.holders[index].update(self.sharesFree, self.price)\n",
    "            self.sharesOwned = self.totalShares - self.sharesFree \n",
    "            test = (self.priceAffect * (self.sharesFree - freeBefore)) + (0.05*np.random.uniform(-1, 1))\n",
    "            self.price = self.price - test\n",
    "            if self.price < 0:\n",
    "                self.price = 1"
   ]
  },
  {
   "cell_type": "markdown",
   "metadata": {},
   "source": [
    "Creating the Stock\n",
    "------------------\n",
    "In order to create variation in the Joes to model variations in how people think, random attributes will be assigned to each Joe within a range. Each Joe will have a random amount of shares owned, wealth, previous purchase price, and his own 'tendincies'."
   ]
  },
  {
   "cell_type": "code",
   "execution_count": 151,
   "metadata": {},
   "outputs": [],
   "source": [
    "np.random.seed(1)\n",
    "numHolders = 1000\n",
    "\n",
    "sharesOwned = np.random.randint(low=20, high=50, size=numHolders)\n",
    "\n",
    "wealth = np.random.randint(low=200, high=2000, size=numHolders)\n",
    "\n",
    "purchasePrice = np.random.uniform(low=30, high=60, size=numHolders)\n",
    "\n",
    "sellProb = np.random.uniform(low=0.01, high=0.2, size=numHolders)\n",
    "\n",
    "buyProb = np.random.uniform(low=0.1, high=0.2, size=numHolders)\n",
    "\n",
    "buyAgg = np.random.randint(low=1, high=5, size=numHolders)\n",
    "\n",
    "sellAgg = np.random.randint(low=1, high=5, size=numHolders)\n",
    "\n",
    "#def __init__(self, numberHolders, price, freeShares, sharesPer, purchasePrice, buyFreq, sellFreq, buyAgg, sellAgg):\n",
    "aapl = stock(numHolders, 30.0, 100, sharesOwned, wealth, purchasePrice, buyProb, sellProb, buyAgg, sellAgg)"
   ]
  },
  {
   "cell_type": "markdown",
   "metadata": {},
   "source": [
    "To simulate the stock, the stock is stepped through in a loop while the price and other attributes are saved for analysis. "
   ]
  },
  {
   "cell_type": "code",
   "execution_count": 152,
   "metadata": {},
   "outputs": [],
   "source": [
    "simulationSteps = 1000\n",
    "price = []\n",
    "freeShares = []\n",
    "for i in range(simulationSteps):\n",
    "    aapl.step()\n",
    "    price.append(aapl.stockPrice())\n",
    "    freeShares.append(aapl.freeShares())"
   ]
  },
  {
   "cell_type": "code",
   "execution_count": 153,
   "metadata": {},
   "outputs": [
    {
     "data": {
      "image/png": "[encoded data removed]",
      "text/plain": [
       "<Figure size 432x288 with 2 Axes>"
      ]
     },
     "metadata": {
      "needs_background": "light"
     },
     "output_type": "display_data"
    }
   ],
   "source": [
    "fig, ax1 = plt.subplots()\n",
    "\n",
    "ax1.plot(price, color='blue')\n",
    "ax1.set_xlabel('Time')\n",
    "ax1.set_ylabel('Price ($)', color='blue')\n",
    "ax1.tick_params(axis='y', labelcolor='blue')\n",
    "\n",
    "ax2 = ax1.twinx()\n",
    "ax2.plot(freeShares, color='red')\n",
    "ax2.set_ylabel('Number of Shares', color='red')\n",
    "ax2.tick_params(axis='y', labelcolor='red')\n",
    "plt.tight_layout()\n",
    "plt.savefig(\"moreshareholders.jpg\")\n",
    "plt.show()\n"
   ]
  },
  {
   "cell_type": "markdown",
   "metadata": {},
   "source": [
    "Effect of Changing the Joe's Personailty\n",
    "----------------------------------------\n",
    "\n"
   ]
  },
  {
   "cell_type": "code",
   "execution_count": null,
   "metadata": {},
   "outputs": [],
   "source": []
  }
 ],
 "metadata": {
  "kernelspec": {
   "display_name": "Python 3",
   "language": "python",
   "name": "python3"
  },
  "language_info": {
   "codemirror_mode": {
    "name": "ipython",
    "version": 3
   },
   "file_extension": ".py",
   "mimetype": "text/x-python",
   "name": "python",
   "nbconvert_exporter": "python",
   "pygments_lexer": "ipython3",
   "version": "3.10.2"
  }
 },
 "nbformat": 4,
 "nbformat_minor": 4
}
